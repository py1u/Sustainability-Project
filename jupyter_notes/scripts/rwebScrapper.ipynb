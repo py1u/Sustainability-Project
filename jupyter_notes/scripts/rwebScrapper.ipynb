{
 "cells": [
  {
   "cell_type": "markdown",
   "metadata": {},
   "source": [
    "# Part 1: Getting Rweb Courses\n",
    "\n"
   ]
  },
  {
   "cell_type": "code",
   "execution_count": 2,
   "metadata": {},
   "outputs": [],
   "source": [
    "from requests import request, get, RequestException\n",
    "from requests.cookies import RequestsCookieJar\n",
    "\n",
    "from bs4 import BeautifulSoup\n",
    "import html\n",
    "import pandas as pd\n",
    "import time\n"
   ]
  },
  {
   "cell_type": "markdown",
   "metadata": {},
   "source": [
    "### Getting cookies and total number of courses\n",
    "- First make an intitial request to get the cookies \n",
    "- Make another request to get the total number of courses in the Fall 2024 term"
   ]
  },
  {
   "cell_type": "code",
   "execution_count": 53,
   "metadata": {},
   "outputs": [
    {
     "name": "stdout",
     "output_type": "stream",
     "text": [
      "totalCount: 10545\n"
     ]
    }
   ],
   "source": [
    "#tokens and cookies\n",
    "\n",
    "JSESSIONID = get(\"https://registrationssb.ucr.edu\").cookies[\"JSESSIONID\"]\n",
    "\n",
    "#headers for the request\n",
    "jar = RequestsCookieJar()\n",
    "headers = {\n",
    "    \"Content-Type\": \"application/x-www-form-urlencoded; charset=UTF-8\",\n",
    "}\n",
    "term = \"202440\"\n",
    "r = request(\"POST\", \"https://registrationssb.ucr.edu/StudentRegistrationSsb/ssb/term/search?mode=search\", data={\"term\": term})\n",
    "\n",
    "jar.update(r.cookies)\n",
    "\n",
    "#url parameters\n",
    "\n",
    "pageOffset = 0 #initial val\n",
    "pageMaxSize = 500\n",
    "\n",
    "#initial request to get totalCount of courses\n",
    "url = f\"https://registrationssb.ucr.edu/StudentRegistrationSsb/ssb/searchResults/searchResults?&txt_term={term}&pageOffset={pageOffset}&pageMaxSize={pageMaxSize}&sortColumn=subjectDescription&sortDirection=asc\"\n",
    "response = request(\"GET\", url, headers=headers, cookies=jar)\n",
    "totalCount = response.json()[\"totalCount\"]\n",
    "print(\"totalCount:\", totalCount)\n",
    "\n"
   ]
  },
  {
   "cell_type": "markdown",
   "metadata": {},
   "source": [
    "#### Geting the CRNs\n",
    "The Course Reference Numbers (CRNs) are essential because they are required parameters for the API used to fetch the course descriptions."
   ]
  },
  {
   "cell_type": "code",
   "execution_count": null,
   "metadata": {},
   "outputs": [],
   "source": [
    "pageMaxSize = 500  # max request size\n",
    "courses = []\n",
    "pageOffset = 0\n",
    "\n",
    "while True:\n",
    "    print(len(courses))\n",
    "    url = f\"https://registrationssb.ucr.edu/StudentRegistrationSsb/ssb/searchResults/searchResults?&txt_term={term}&startDatepicker=&endDatepicker=&pageOffset={pageOffset}&pageMaxSize={pageMaxSize}&sortColumn=subjectDescription&sortDirection=asc\"\n",
    "    try:\n",
    "        response = request(\"GET\", url, headers=headers, cookies=jar)\n",
    "        response.raise_for_status()\n",
    "        new_courses = response.json()[\"data\"]\n",
    "        \n",
    "        if not new_courses:\n",
    "            print(\"No more courses available.\")\n",
    "            break\n",
    "        \n",
    "        courses.extend(new_courses)\n",
    "        \n",
    "        if len(new_courses) < pageMaxSize:\n",
    "            print(\"Fetched all available data.\")\n",
    "            break\n",
    "        \n",
    "        pageOffset += pageMaxSize\n",
    "        \n",
    "        if len(courses) >= totalCount:\n",
    "            break\n",
    "\n",
    "    except RequestException as e:\n",
    "        print(f\"An error occurred: {e}\")\n",
    "        break\n",
    "\n",
    "print(f\"Total courses fetched: {len(courses)}\")\n"
   ]
  },
  {
   "cell_type": "code",
   "execution_count": 13,
   "metadata": {},
   "outputs": [
    {
     "name": "stdout",
     "output_type": "stream",
     "text": [
      "Got all the courses\n"
     ]
    }
   ],
   "source": [
    "if len(courses) == totalCount:\n",
    "    print(\"Got all the courses\")\n",
    "else:\n",
    "    print(\"Error: did not get all courses\")"
   ]
  },
  {
   "cell_type": "markdown",
   "metadata": {},
   "source": [
    "#### Removes duplicate courses (discussions and labs)"
   ]
  },
  {
   "cell_type": "code",
   "execution_count": 29,
   "metadata": {},
   "outputs": [
    {
     "name": "stdout",
     "output_type": "stream",
     "text": [
      "Number of uniqure courses: 1685\n"
     ]
    }
   ],
   "source": [
    "uniqueCourses = {}\n",
    "\n",
    "for course in courses:\n",
    "    if course[\"subjectCourse\"] in uniqueCourses:\n",
    "        continue\n",
    "    else:\n",
    "        subjectCourse = course[\"subjectCourse\"]\n",
    "        uniqueCourses[subjectCourse] = {\n",
    "            \"courseReferenceNumber\": course[\"courseReferenceNumber\"], \n",
    "            \"subjectDescription\": html.unescape(course[\"subjectDescription\"]),\n",
    "            \"courseTitle\": html.unescape(course[\"courseTitle\"]),\n",
    "        }\n",
    "print(\"Number of uniqure courses:\", len(uniqueCourses))"
   ]
  },
  {
   "cell_type": "markdown",
   "metadata": {},
   "source": [
    "#### Getting each course description\n",
    "- Pass the CRN for a course into the POST request in order to fetch the html for the course description\n",
    "- Then use beautifulsoup to parse the html\n",
    "- Store data into `output` dictionary\n",
    "- Estimated wait time: 5 mins"
   ]
  },
  {
   "cell_type": "code",
   "execution_count": 54,
   "metadata": {},
   "outputs": [
    {
     "name": "stdout",
     "output_type": "stream",
     "text": [
      "Number of course descriptions fetched: 1685\n"
     ]
    }
   ],
   "source": [
    "import requests\n",
    "from bs4 import BeautifulSoup\n",
    "import time\n",
    "\n",
    "output = dict()\n",
    "counter = 0\n",
    "max_retries = 5  # Maximum number of retries\n",
    "\n",
    "# Function to fetch course description\n",
    "def fetch_course_description(course, term, headers):\n",
    "    retries = 0\n",
    "    while retries < max_retries:\n",
    "        try:\n",
    "            response = requests.post(\n",
    "                \"https://registrationssb.ucr.edu/StudentRegistrationSsb/ssb/searchResults/getCourseDescription\",\n",
    "                headers=headers,\n",
    "                data={\"term\": term, \"courseReferenceNumber\": course[\"courseReferenceNumber\"]}\n",
    "            )\n",
    "            response.raise_for_status()\n",
    "            return response\n",
    "        except requests.exceptions.Timeout:\n",
    "            print(f\"Timeout occurred for course {course['courseReferenceNumber']}. Retrying...\")\n",
    "            retries += 1\n",
    "            time.sleep(2 ** retries)  # Exponential backoff\n",
    "        except requests.exceptions.RequestException as e:\n",
    "            print(f\"Request failed for course {course['courseReferenceNumber']}: {e}\")\n",
    "            break\n",
    "    return None\n",
    "\n",
    "# Main loop to fetch course descriptions\n",
    "for course_key in uniqueCourses:\n",
    "    course = uniqueCourses[course_key]\n",
    "    response = fetch_course_description(course, term, headers)\n",
    "    \n",
    "    if response:\n",
    "        soup = BeautifulSoup(response.text, \"html.parser\")\n",
    "        output[course_key] = {\n",
    "            \"courseReferenceNumber\": course[\"courseReferenceNumber\"],\n",
    "            \"courseTitle\": course[\"courseTitle\"],\n",
    "            \"subjectDescription\": course[\"subjectDescription\"],\n",
    "            \"description\": soup.get_text().strip().lower()\n",
    "        }\n",
    "        counter += 1\n",
    "    else:\n",
    "        print(f\"Failed to fetch description for course {course['courseReferenceNumber']} after {max_retries} retries.\")\n",
    "\n",
    "print(f\"Number of course descriptions fetched: {counter}\")"
   ]
  },
  {
   "cell_type": "markdown",
   "metadata": {},
   "source": [
    "#### Write data to CSV file\n",
    "- Cleaning the data and drop into a file called `courses.csv`\n",
    "- Removing first 2 sentences from course description in order to remove number of units and prerequisites"
   ]
  },
  {
   "cell_type": "code",
   "execution_count": null,
   "metadata": {},
   "outputs": [],
   "source": [
    "df = pd.DataFrame.from_dict(output, orient='index')\n",
    "df.index.name = \"courseNumber\"\n",
    "\n",
    "df.to_csv(\"courses.csv\")\n",
    "\n",
    "if len(uniqueCourses) == len(df):\n",
    "    print(\"All courses are in CSV file\")\n",
    "else:\n",
    "    print(\"Error occured: All courses are not in CSV file\")"
   ]
  }
 ],
 "metadata": {
  "kernelspec": {
   "display_name": "Python 3",
   "language": "python",
   "name": "python3"
  },
  "language_info": {
   "codemirror_mode": {
    "name": "ipython",
    "version": 3
   },
   "file_extension": ".py",
   "mimetype": "text/x-python",
   "name": "python",
   "nbconvert_exporter": "python",
   "pygments_lexer": "ipython3",
   "version": "3.10.14"
  }
 },
 "nbformat": 4,
 "nbformat_minor": 2
}
